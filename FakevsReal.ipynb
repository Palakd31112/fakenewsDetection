{
 "cells": [
  {
   "cell_type": "code",
   "execution_count": 2,
   "id": "42793268-7399-45d8-8fa2-0de72bec6812",
   "metadata": {},
   "outputs": [],
   "source": [
    "import pandas as pd"
   ]
  },
  {
   "cell_type": "code",
   "execution_count": 3,
   "id": "808822bd-77ac-41c0-907b-c428d8212777",
   "metadata": {},
   "outputs": [],
   "source": [
    "import nltk\n",
    "from nltk.stem import PorterStemmer\n",
    "from nltk.corpus import stopwords\n",
    "import string"
   ]
  },
  {
   "cell_type": "code",
   "execution_count": 4,
   "id": "ca278acd-2c96-42d8-9a8a-ad92777459c7",
   "metadata": {},
   "outputs": [],
   "source": [
    "ps = PorterStemmer()\n",
    "stop_word = stopwords.words(\"english\")"
   ]
  },
  {
   "cell_type": "code",
   "execution_count": 5,
   "id": "4e3c733b-5c19-4a70-b848-e92fcfc95d09",
   "metadata": {},
   "outputs": [],
   "source": [
    "fake_df = pd.read_csv(\"Fake.csv\")\n",
    "real_df = pd.read_csv(\"True.csv\")"
   ]
  },
  {
   "cell_type": "code",
   "execution_count": 6,
   "id": "2e635b73-779d-4984-8c35-536c7b87be04",
   "metadata": {},
   "outputs": [],
   "source": [
    "fake_df[\"label\"] = 0\n",
    "real_df[\"label\"] = 1"
   ]
  },
  {
   "cell_type": "code",
   "execution_count": 7,
   "id": "546c7dcc-c465-4952-9732-a7218980f8ce",
   "metadata": {},
   "outputs": [],
   "source": [
    "df = pd.concat([fake_df, real_df])"
   ]
  },
  {
   "cell_type": "code",
   "execution_count": 8,
   "id": "32932610-dd94-499b-94a1-61c728976482",
   "metadata": {},
   "outputs": [
    {
     "name": "stdout",
     "output_type": "stream",
     "text": [
      "0    Donald Trump just couldn t wish all Americans ...\n",
      "0    WASHINGTON (Reuters) - The head of a conservat...\n",
      "Name: text, dtype: object\n"
     ]
    }
   ],
   "source": [
    "print(df[\"text\"][0])"
   ]
  },
  {
   "cell_type": "code",
   "execution_count": 9,
   "id": "41fbcc28-a7ae-4c57-ba0d-41eee92ddb5d",
   "metadata": {},
   "outputs": [],
   "source": [
    "df.drop(columns=\"date\",inplace=True)\n",
    "df.drop(columns=\"title\",inplace=True)\n",
    "df.drop(columns=\"subject\",inplace=True)"
   ]
  },
  {
   "cell_type": "code",
   "execution_count": 10,
   "id": "11d1fdf5-a7bf-4422-9b43-3b3a0832bf7d",
   "metadata": {},
   "outputs": [
    {
     "data": {
      "text/html": [
       "<div>\n",
       "<style scoped>\n",
       "    .dataframe tbody tr th:only-of-type {\n",
       "        vertical-align: middle;\n",
       "    }\n",
       "\n",
       "    .dataframe tbody tr th {\n",
       "        vertical-align: top;\n",
       "    }\n",
       "\n",
       "    .dataframe thead th {\n",
       "        text-align: right;\n",
       "    }\n",
       "</style>\n",
       "<table border=\"1\" class=\"dataframe\">\n",
       "  <thead>\n",
       "    <tr style=\"text-align: right;\">\n",
       "      <th></th>\n",
       "      <th>text</th>\n",
       "      <th>label</th>\n",
       "    </tr>\n",
       "  </thead>\n",
       "  <tbody>\n",
       "    <tr>\n",
       "      <th>0</th>\n",
       "      <td>Donald Trump just couldn t wish all Americans ...</td>\n",
       "      <td>0</td>\n",
       "    </tr>\n",
       "    <tr>\n",
       "      <th>1</th>\n",
       "      <td>House Intelligence Committee Chairman Devin Nu...</td>\n",
       "      <td>0</td>\n",
       "    </tr>\n",
       "    <tr>\n",
       "      <th>2</th>\n",
       "      <td>On Friday, it was revealed that former Milwauk...</td>\n",
       "      <td>0</td>\n",
       "    </tr>\n",
       "    <tr>\n",
       "      <th>3</th>\n",
       "      <td>On Christmas day, Donald Trump announced that ...</td>\n",
       "      <td>0</td>\n",
       "    </tr>\n",
       "    <tr>\n",
       "      <th>4</th>\n",
       "      <td>Pope Francis used his annual Christmas Day mes...</td>\n",
       "      <td>0</td>\n",
       "    </tr>\n",
       "    <tr>\n",
       "      <th>...</th>\n",
       "      <td>...</td>\n",
       "      <td>...</td>\n",
       "    </tr>\n",
       "    <tr>\n",
       "      <th>21412</th>\n",
       "      <td>BRUSSELS (Reuters) - NATO allies on Tuesday we...</td>\n",
       "      <td>1</td>\n",
       "    </tr>\n",
       "    <tr>\n",
       "      <th>21413</th>\n",
       "      <td>LONDON (Reuters) - LexisNexis, a provider of l...</td>\n",
       "      <td>1</td>\n",
       "    </tr>\n",
       "    <tr>\n",
       "      <th>21414</th>\n",
       "      <td>MINSK (Reuters) - In the shadow of disused Sov...</td>\n",
       "      <td>1</td>\n",
       "    </tr>\n",
       "    <tr>\n",
       "      <th>21415</th>\n",
       "      <td>MOSCOW (Reuters) - Vatican Secretary of State ...</td>\n",
       "      <td>1</td>\n",
       "    </tr>\n",
       "    <tr>\n",
       "      <th>21416</th>\n",
       "      <td>JAKARTA (Reuters) - Indonesia will buy 11 Sukh...</td>\n",
       "      <td>1</td>\n",
       "    </tr>\n",
       "  </tbody>\n",
       "</table>\n",
       "<p>44898 rows × 2 columns</p>\n",
       "</div>"
      ],
      "text/plain": [
       "                                                    text  label\n",
       "0      Donald Trump just couldn t wish all Americans ...      0\n",
       "1      House Intelligence Committee Chairman Devin Nu...      0\n",
       "2      On Friday, it was revealed that former Milwauk...      0\n",
       "3      On Christmas day, Donald Trump announced that ...      0\n",
       "4      Pope Francis used his annual Christmas Day mes...      0\n",
       "...                                                  ...    ...\n",
       "21412  BRUSSELS (Reuters) - NATO allies on Tuesday we...      1\n",
       "21413  LONDON (Reuters) - LexisNexis, a provider of l...      1\n",
       "21414  MINSK (Reuters) - In the shadow of disused Sov...      1\n",
       "21415  MOSCOW (Reuters) - Vatican Secretary of State ...      1\n",
       "21416  JAKARTA (Reuters) - Indonesia will buy 11 Sukh...      1\n",
       "\n",
       "[44898 rows x 2 columns]"
      ]
     },
     "execution_count": 10,
     "metadata": {},
     "output_type": "execute_result"
    }
   ],
   "source": [
    "df"
   ]
  },
  {
   "cell_type": "code",
   "execution_count": 11,
   "id": "444f03be-8c43-4a82-9e5c-ee60a7d38281",
   "metadata": {},
   "outputs": [],
   "source": [
    "import re\n",
    "def preprocessing(text):\n",
    "    text = text.lower()\n",
    "    text = re.sub(r'\\[.*?\\]', '', text) \n",
    "    text = re.sub(r'https?://\\S+|www\\.\\S+', '', text)  \n",
    "    text = re.sub(r'<.*?>+', '', text)  \n",
    "    text = re.sub(r'[^a-z\\s]', '', text)\n",
    "    token = nltk.word_tokenize(text)\n",
    "    \n",
    "    new_sen = []\n",
    "    for i in token:\n",
    "        stemm = ps.stem(i)\n",
    "        if i not in stop_word and i not in string.punctuation:\n",
    "            new_sen.append(i)\n",
    "    return \" \".join(new_sen) #converts to sentence"
   ]
  },
  {
   "cell_type": "code",
   "execution_count": 12,
   "id": "0d4fbd3c-fab7-4e6e-b903-518657c43727",
   "metadata": {},
   "outputs": [],
   "source": [
    "d = preprocessing(\"Donald Trump just couldn t wish all Americans a Happy New Year and leave it at that. Instead, he had to give a shout out to his enemies, haters and  the very dishonest fake news media.  The former reality show star had just one job to do and he couldn t do it. As our Country rapidly grows stronger and smarter, I want to wish all of my friends, supporters, enemies, haters, and even the very dishonest Fake News Media, a Happy and Healthy New Year,  President Angry Pants tweeted.  2018 will be a great year for America! As our Country rapidly grows stronger and smarter, I want to wish all of my friends, supporters, enemies, haters, and even the very dishonest Fake News Media, a Happy and Healthy New Year. 2018 will be a great year for America!  Donald J. Trump (@realDonaldTrump) December 31, 2017Trump s tweet went down about as welll as you d expect.What kind of president sends a New Year s greeting like this despicable, petty, infantile gibberish? Only Trump! His lack of decency won t even allow him to rise above the gutter long enough to wish the American citizens a happy new year!  Bishop Talbert Swan (@TalbertSwan) December 31, 2017no one likes you  Calvin (@calvinstowell) December 31, 2017Your impeachment would make 2018 a great year for America, but I ll also accept regaining control of Congress.  Miranda Yaver (@mirandayaver) December 31, 2017Do you hear yourself talk? When you have to include that many people that hate you you have to wonder? Why do the they all hate me?  Alan Sandoval (@AlanSandoval13) December 31, 2017Who uses the word Haters in a New Years wish??  Marlene (@marlene399) December 31, 2017You can t just say happy new year?  Koren pollitt (@Korencarpenter) December 31, 2017Here s Trump s New Year s Eve tweet from 2016.Happy New Year to all, including to my many enemies and those who have fought me and lost so badly they just don t know what to do. Love!  Donald J. Trump (@realDonaldTrump) December 31, 2016This is nothing new for Trump. He s been doing this for years.Trump has directed messages to his  enemies  and  haters  for New Year s, Easter, Thanksgiving, and the anniversary of 9/11. pic.twitter.com/4FPAe2KypA  Daniel Dale (@ddale8) December 31, 2017Trump s holiday tweets are clearly not presidential.How long did he work at Hallmark before becoming President?  Steven Goodine (@SGoodine) December 31, 2017He s always been like this . . . the only difference is that in the last few years, his filter has been breaking down.  Roy Schulze (@thbthttt) December 31, 2017Who, apart from a teenager uses the term haters?  Wendy (@WendyWhistles) December 31, 2017he s a fucking 5 year old  Who Knows (@rainyday80) December 31, 2017So, to all the people who voted for this a hole thinking he would change once he got into power, you were wrong! 70-year-old men don t change and now he s a year older.Photo by Andrew Burton/Getty Images.\")"
   ]
  },
  {
   "cell_type": "code",
   "execution_count": 13,
   "id": "b94aca09-361c-4ff4-9ed2-ecc48f4f7d9d",
   "metadata": {},
   "outputs": [
    {
     "data": {
      "text/plain": [
       "'donald trump wish americans happy new year leave instead give shout enemies haters dishonest fake news media former reality show star one job country rapidly grows stronger smarter want wish friends supporters enemies haters even dishonest fake news media happy healthy new year president angry pants tweeted great year america country rapidly grows stronger smarter want wish friends supporters enemies haters even dishonest fake news media happy healthy new year great year america donald j trump realdonaldtrump december trump tweet went welll expectwhat kind president sends new year greeting like despicable petty infantile gibberish trump lack decency even allow rise gutter long enough wish american citizens happy new year bishop talbert swan talbertswan december one likes calvin calvinstowell december impeachment would make great year america also accept regaining control congress miranda yaver mirandayaver december hear talk include many people hate wonder hate alan sandoval alansandoval december uses word haters new years wish marlene marlene december say happy new year koren pollitt korencarpenter december trump new year eve tweet happy new year including many enemies fought lost badly know love donald j trump realdonaldtrump december nothing new trump yearstrump directed messages enemies haters new year easter thanksgiving anniversary pictwittercomfpaekypa daniel dale ddale december trump holiday tweets clearly presidentialhow long work hallmark becoming president steven goodine sgoodine december always like difference last years filter breaking roy schulze thbthttt december apart teenager uses term haters wendy wendywhistles december fucking year old knows rainyday december people voted hole thinking would change got power wrong yearold men change year olderphoto andrew burtongetty images'"
      ]
     },
     "execution_count": 13,
     "metadata": {},
     "output_type": "execute_result"
    }
   ],
   "source": [
    "d"
   ]
  },
  {
   "cell_type": "code",
   "execution_count": null,
   "id": "ce844da5-eadb-4146-8363-b4c4cd3d7a1d",
   "metadata": {},
   "outputs": [],
   "source": [
    "df[\"clean\"] = df[\"text\"].apply(preprocessing)"
   ]
  },
  {
   "cell_type": "code",
   "execution_count": null,
   "id": "5e60d97e-a6d9-45e1-92f0-913b62bcd95a",
   "metadata": {},
   "outputs": [],
   "source": []
  },
  {
   "cell_type": "code",
   "execution_count": null,
   "id": "47ff7636-d048-4f0b-bc3c-fd20920e2ba7",
   "metadata": {},
   "outputs": [],
   "source": []
  }
 ],
 "metadata": {
  "kernelspec": {
   "display_name": "Python 3 (ipykernel)",
   "language": "python",
   "name": "python3"
  },
  "language_info": {
   "codemirror_mode": {
    "name": "ipython",
    "version": 3
   },
   "file_extension": ".py",
   "mimetype": "text/x-python",
   "name": "python",
   "nbconvert_exporter": "python",
   "pygments_lexer": "ipython3",
   "version": "3.13.5"
  }
 },
 "nbformat": 4,
 "nbformat_minor": 5
}
